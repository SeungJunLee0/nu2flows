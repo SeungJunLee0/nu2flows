{
 "cells": [
  {
   "cell_type": "code",
   "execution_count": 1,
   "id": "b79f312b-e295-4b8c-9f55-e53787342f62",
   "metadata": {},
   "outputs": [],
   "source": [
    "import h5py as h5\n",
    "import vector\n",
    "import numpy as np\n",
    "import matplotlib.pyplot as plt\n"
   ]
  },
  {
   "cell_type": "code",
   "execution_count": 2,
   "id": "897d6b93-a62e-48c6-9063-e5b1784b1ccb",
   "metadata": {},
   "outputs": [],
   "source": [
    "# test set\n",
    "path = '/home/sjlee/nu2flows/data/test.h5'\n",
    "\n",
    "# output file created by export.py\n",
    "nu_path = '../logs/nu2flows/test/outputs/test.h5'\n"
   ]
  },
  {
   "cell_type": "code",
   "execution_count": 4,
   "id": "ee4ce166-1184-4429-957b-a66b3edfccfa",
   "metadata": {},
   "outputs": [
    {
     "name": "stdout",
     "output_type": "stream",
     "text": [
      "delphes\n",
      "delphes/MET\n",
      "delphes/decay_channel\n",
      "delphes/jets\n",
      "delphes/jets_indices\n",
      "delphes/leptons\n",
      "delphes/matchability\n",
      "delphes/nbjets\n",
      "delphes/neutrinos\n",
      "delphes/njets\n",
      "delphes/truth_particles\n",
      "delphes/truth_quarks\n"
     ]
    }
   ],
   "source": [
    "import h5py\n",
    "\n",
    "with h5py.File(path, \"r\") as f:\n",
    "    def print_structure(name, obj):\n",
    "        print(name)\n",
    "\n",
    "    f.visititems(print_structure)\n",
    "    "
   ]
  },
  {
   "cell_type": "code",
   "execution_count": 5,
   "id": "cf4d6a53-5e34-431b-bffa-59f368de36f9",
   "metadata": {},
   "outputs": [
    {
     "name": "stdout",
     "output_type": "stream",
     "text": [
      "antineutrino\n",
      "log_probs\n",
      "neutrino\n"
     ]
    }
   ],
   "source": [
    "import h5py\n",
    "\n",
    "with h5py.File(nu_path, \"r\") as f:\n",
    "    def print_structure(name, obj):\n",
    "        print(name)\n",
    "\n",
    "    f.visititems(print_structure)\n",
    "    "
   ]
  },
  {
   "cell_type": "code",
   "execution_count": 10,
   "id": "1887757f-a1e3-4de0-be8a-b9a2335ad34c",
   "metadata": {},
   "outputs": [],
   "source": [
    "path ='/home/sjlee/nu2flows/data/pythia_train_2.h5'\n",
    "\n",
    "\n",
    "# output file created by export.py\n",
    "nu_path = '../logs/nu2flows/test/outputs/pythia_test.h5'"
   ]
  },
  {
   "cell_type": "code",
   "execution_count": 11,
   "id": "8da99659-7f41-45b1-8142-c19da73f0f36",
   "metadata": {},
   "outputs": [
    {
     "name": "stdout",
     "output_type": "stream",
     "text": [
      "delphes\n",
      "delphes/MET\n",
      "delphes/decay_channel\n",
      "delphes/jets\n",
      "delphes/jets_indices\n",
      "delphes/leptons\n",
      "delphes/matchability\n",
      "delphes/nbjets\n",
      "delphes/neutrinos\n",
      "delphes/njets\n",
      "delphes/truth_particles\n",
      "delphes/truth_quarks\n"
     ]
    }
   ],
   "source": [
    "import h5py\n",
    "\n",
    "with h5py.File(path, \"r\") as f:\n",
    "    def print_structure(name, obj):\n",
    "        print(name)\n",
    "\n",
    "    f.visititems(print_structure)\n",
    "    "
   ]
  },
  {
   "cell_type": "code",
   "execution_count": null,
   "id": "70e2048a-9157-4561-a6f7-1971d99dfe93",
   "metadata": {},
   "outputs": [],
   "source": []
  }
 ],
 "metadata": {
  "kernelspec": {
   "display_name": "Python 3 (ipykernel)",
   "language": "python",
   "name": "python3"
  },
  "language_info": {
   "codemirror_mode": {
    "name": "ipython",
    "version": 3
   },
   "file_extension": ".py",
   "mimetype": "text/x-python",
   "name": "python",
   "nbconvert_exporter": "python",
   "pygments_lexer": "ipython3",
   "version": "3.10.18"
  }
 },
 "nbformat": 4,
 "nbformat_minor": 5
}
